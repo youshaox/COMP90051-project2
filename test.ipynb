{
 "cells": [
  {
   "cell_type": "code",
   "execution_count": 1,
   "metadata": {
    "collapsed": true
   },
   "outputs": [],
   "source": [
    "# Do not edit. These are the only imports permitted.\n",
    "%matplotlib inline\n",
    "import numpy as np\n",
    "from numpy.linalg import inv\n",
    "import matplotlib.pyplot as plt\n",
    "from abc import ABC, abstractmethod"
   ]
  },
  {
   "cell_type": "code",
   "execution_count": 2,
   "metadata": {
    "collapsed": true
   },
   "outputs": [],
   "source": [
    "class MAB(ABC):\n",
    "    \"\"\"\n",
    "    Abstract class that represents a multi-armed bandit (MAB)\n",
    "    \"\"\"\n",
    "    \n",
    "    @abstractmethod\n",
    "    def play(self, tround, context):\n",
    "        \"\"\"\n",
    "        Play a round\n",
    "        \n",
    "        Arguments\n",
    "        =========\n",
    "        tround : int\n",
    "            positive integer identifying the round\n",
    "        \n",
    "        context : 1D float array, shape (self.ndims * self.narms), optional\n",
    "            context given to the arms\n",
    "        \n",
    "        Returns\n",
    "        =======\n",
    "        arm : int\n",
    "            the positive integer arm id for this round\n",
    "        \"\"\"\n",
    "    \n",
    "    @abstractmethod\n",
    "    def update(self, arm, reward, context):\n",
    "        \"\"\"\n",
    "        Updates the internal state of the MAB after a play\n",
    "        \n",
    "        Arguments\n",
    "        =========\n",
    "        arm : int\n",
    "            a positive integer arm id in {1, ..., self.narms}\n",
    "        \n",
    "        reward : float\n",
    "            reward received from arm\n",
    "        \n",
    "        context : 1D float array, shape (self.ndims * self.narms), optional\n",
    "            context given to arms\n",
    "        \"\"\""
   ]
  },
  {
   "cell_type": "code",
   "execution_count": 3,
   "metadata": {
    "collapsed": true
   },
   "outputs": [],
   "source": [
    "def index_max(input_list):\n",
    "    \"\"\"\n",
    "    return the index of the max element in the list.\n",
    "    NOTICE: Tie-breaking uniformly among value-maximising arms.\n",
    "    arm 0 是第一个arm\n",
    "    \"\"\"\n",
    "    m = max(input_list)\n",
    "    index_list = [i for i, j in enumerate(input_list) if j == m]\n",
    "    if len(index_list) == 1:\n",
    "        return index_list[0]\n",
    "    else:\n",
    "        return np.random.choice(index_list)"
   ]
  },
  {
   "cell_type": "code",
   "execution_count": 4,
   "metadata": {
    "collapsed": true
   },
   "outputs": [],
   "source": [
    "class EpsGreedy(MAB):\n",
    "    \"\"\"\n",
    "    Epsilon-Greedy multi-armed bandit\n",
    "\n",
    "    Arguments\n",
    "    =========\n",
    "    narms : int\n",
    "        number of arms\n",
    "\n",
    "    epsilon : float\n",
    "        explore probability\n",
    "\n",
    "    Q0 : float, optional\n",
    "        initial value for the arms\n",
    "    \"\"\"\n",
    "    \n",
    "    def __init__(self, narms, epsilon, Q0=np.inf):\n",
    "        self.narms=narms\n",
    "        self.epsilon=epsilon\n",
    "        # 记录每一个arm的pull的次数和得到的reward\n",
    "        self.counts = [0 for col in range(self.narms)]\n",
    "        self.avg_rewards = [Q0 for col in range(self.narms)]\n",
    "        \n",
    "    def play(self, tround, context=None):\n",
    "        \"\"\"\n",
    "        Play a round\n",
    "        \n",
    "        Arguments\n",
    "        =========\n",
    "        tround : int\n",
    "            positive integer identifying the round\n",
    "        context : 1D float array, shape (self.ndims * self.narms), optional\n",
    "            context given to the arms\n",
    "        \n",
    "        Returns\n",
    "        =======\n",
    "        arm : int\n",
    "            the positive integer arm id for this round\n",
    "        \"\"\"\n",
    "        # exploit\n",
    "        if np.random.random() > self.epsilon:\n",
    "            return index_max(self.avg_rewards)\n",
    "        else:\n",
    "        # explore\n",
    "            return np.random.randint(self.narms)\n",
    "        \n",
    "    def update(self, arm, reward, context=None):\n",
    "        \"\"\"\n",
    "        Updates the internal state of the MAB after a play\n",
    "        \n",
    "        Arguments\n",
    "        =========\n",
    "        arm : int\n",
    "            a positive integer arm id in {1, ..., self.narms}\n",
    "        \n",
    "        reward : float\n",
    "            reward received from arm\n",
    "        \n",
    "        context : 1D float array, shape (self.ndims * self.narms), optional\n",
    "            context given to arms\n",
    "        \"\"\"\n",
    "        self.counts[arm] = self.counts[arm] + 1\n",
    "        n = self.counts[arm]\n",
    "        old_avg_reward = self.avg_rewards[arm]\n",
    "        if self.avg_rewards[arm] == np.inf:\n",
    "            new_avg_reward = reward\n",
    "        else:\n",
    "            new_avg_reward = (old_avg_reward * (n-1) + reward)/n\n",
    "        self.avg_rewards[arm] = new_avg_reward"
   ]
  },
  {
   "cell_type": "code",
   "execution_count": 7,
   "metadata": {
    "collapsed": true
   },
   "outputs": [],
   "source": [
    "def offlineEvaluate(mab, arms, rewards, contexts, nrounds=None):\n",
    "    \"\"\"\n",
    "    Offline evaluation of a multi-armed bandit\n",
    "    \n",
    "    Arguments\n",
    "    =========\n",
    "    mab : instance of MAB\n",
    "    \n",
    "    arms : 1D int array, shape (nevents,) \n",
    "        integer arm id for each event\n",
    "    \n",
    "    rewards : 1D float array, shape (nevents,)\n",
    "        reward received for each event\n",
    "    \n",
    "    contexts : 2D float array, shape (nevents, mab.narms*nfeatures)\n",
    "        contexts presented to the arms (stacked horizontally) \n",
    "        for each event.\n",
    "        \n",
    "    nrounds : int, optional\n",
    "        number of matching events to evaluate `mab` on.\n",
    "    \n",
    "    Returns\n",
    "    =======\n",
    "    out : 1D float array\n",
    "        rewards for the matching events\n",
    "    \"\"\"\n",
    "    rewards_for_matched_round = []\n",
    "    tround = 1\n",
    "    length = len(rewards)\n",
    "    context_round\n",
    "    for context_round in range(length):\n",
    "\n",
    "        context = contexts[context_round]\n",
    "        response_arm = arms[context_round]-1\n",
    "        response_reward = rewards[context_round]\n",
    "        estimate_arm = mab.play(tround, context)\n",
    "        if estimate_arm == response_arm:\n",
    "            tround += 1\n",
    "            rewards_for_matched_round.append(response_reward)\n",
    "            # update\n",
    "            mab.update(response_arm, response_reward, context)\n",
    "        if tround > nrounds:\n",
    "            break\n",
    "    return rewards_for_matched_round"
   ]
  },
  {
   "cell_type": "code",
   "execution_count": 62,
   "metadata": {},
   "outputs": [
    {
     "data": {
      "text/plain": [
       "1.5887050112577374"
      ]
     },
     "execution_count": 62,
     "metadata": {},
     "output_type": "execute_result"
    }
   ],
   "source": [
    "\n",
    "x=lambda delta:(1  + np.sqrt(np.log(2/delta)/2))\n",
    "x(1)"
   ]
  },
  {
   "cell_type": "code",
   "execution_count": 69,
   "metadata": {},
   "outputs": [
    {
     "name": "stdout",
     "output_type": "stream",
     "text": [
      "1.5887050112577374\n",
      "2.949474603520405\n"
     ]
    },
    {
     "data": {
      "image/png": "[encoded data removed]",
      "text/plain": [
       "<matplotlib.figure.Figure at 0x107cafda0>"
      ]
     },
     "metadata": {},
     "output_type": "display_data"
    }
   ],
   "source": [
    "\n",
    "fig = plt.figure()\n",
    "ax = plt.axes()\n",
    "delta = np.linspace(0.001, 1, 30)\n",
    "ax.plot(delta,list(map(alpha,delta)), 'r')\n",
    "print(min(list(map(lambda delta:(1  + np.sqrt(np.log(2/delta)/2)), delta))))\n",
    "print(max(list(map(lambda delta:(1  + np.sqrt(np.log(2/delta)/2)), delta))))\n",
    "# A reasonable range of alpha will be 1.6 to 3"
   ]
  },
  {
   "cell_type": "code",
   "execution_count": 5,
   "metadata": {
    "collapsed": true
   },
   "outputs": [],
   "source": [
    "# load the data\n",
    "dataset = np.loadtxt('dataset.txt', dtype=int)\n",
    "arms = dataset[:,0]\n",
    "contexts = dataset[:,1]\n",
    "contexts = dataset[:,2:102]"
   ]
  },
  {
   "cell_type": "code",
   "execution_count": 21,
   "metadata": {},
   "outputs": [
    {
     "data": {
      "text/plain": [
       "array([[ 5,  0,  0, ..., 30,  4,  0],\n",
       "       [ 1,  3, 36, ...,  0,  0, 10],\n",
       "       [ 3,  0,  0, ...,  3,  0,  0],\n",
       "       ...,\n",
       "       [79,  0,  0, ...,  0,  0,  0],\n",
       "       [29,  0,  2, ..., 17,  0,  0],\n",
       "       [ 0,  2, 35, ...,  0,  0, 12]])"
      ]
     },
     "execution_count": 21,
     "metadata": {},
     "output_type": "execute_result"
    }
   ],
   "source": [
    "contexts"
   ]
  },
  {
   "cell_type": "code",
   "execution_count": 20,
   "metadata": {},
   "outputs": [
    {
     "data": {
      "text/plain": [
       "array([[ 5,  0,  0, ..., 30,  4,  0],\n",
       "       [ 1,  3, 36, ...,  0,  0, 10],\n",
       "       [ 3,  0,  0, ...,  3,  0,  0],\n",
       "       ...,\n",
       "       [79,  0,  0, ...,  0,  0,  0],\n",
       "       [29,  0,  2, ..., 17,  0,  0],\n",
       "       [ 0,  2, 35, ...,  0,  0, 12]])"
      ]
     },
     "execution_count": 20,
     "metadata": {},
     "output_type": "execute_result"
    }
   ],
   "source": [
    "contexts"
   ]
  },
  {
   "cell_type": "code",
   "execution_count": 31,
   "metadata": {},
   "outputs": [
    {
     "data": {
      "text/plain": [
       "[inf, inf, inf, inf]"
      ]
     },
     "execution_count": 31,
     "metadata": {},
     "output_type": "execute_result"
    }
   ],
   "source": [
    "[np.inf for col in range(4)]"
   ]
  },
  {
   "cell_type": "code",
   "execution_count": 15,
   "metadata": {},
   "outputs": [
    {
     "name": "stdout",
     "output_type": "stream",
     "text": [
      "EpsGreedy average reward 0.1\n"
     ]
    }
   ],
   "source": [
    "# todo contexts中的arm是从1开始的。\n",
    "mab = EpsGreedy(10, 0.05)\n",
    "results_EpsGreedy = offlineEvaluate(mab, arms, rewards, contexts, 800)\n",
    "print('EpsGreedy average reward', np.mean(results_EpsGreedy))"
   ]
  },
  {
   "cell_type": "code",
   "execution_count": null,
   "metadata": {
    "collapsed": true
   },
   "outputs": [],
   "source": []
  },
  {
   "cell_type": "code",
   "execution_count": null,
   "metadata": {
    "collapsed": true
   },
   "outputs": [],
   "source": []
  }
 ],
 "metadata": {
  "kernelspec": {
   "display_name": "Python 3",
   "language": "python",
   "name": "python3"
  },
  "language_info": {
   "codemirror_mode": {
    "name": "ipython",
    "version": 3
   },
   "file_extension": ".py",
   "mimetype": "text/x-python",
   "name": "python",
   "nbconvert_exporter": "python",
   "pygments_lexer": "ipython3",
   "version": "3.6.1"
  }
 },
 "nbformat": 4,
 "nbformat_minor": 2
}
