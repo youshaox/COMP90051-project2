{
 "cells": [
  {
   "cell_type": "code",
   "execution_count": 113,
   "metadata": {
    "collapsed": true
   },
   "outputs": [],
   "source": [
    "import numpy as np\n",
    "import random"
   ]
  },
  {
   "cell_type": "code",
   "execution_count": 118,
   "metadata": {},
   "outputs": [],
   "source": [
    "# monto carlo\n",
    "class EpsilonGreedy():\n",
    "    def __init__(self, epsilon, counts, values):\n",
    "        self.epsilon = epsilon\n",
    "        self.counts = counts\n",
    "        self.values = values\n",
    "        return\n",
    "    \n",
    "    def initialize(self, n_arms):\n",
    "        self.counts = [0 for col in range(n_arms)]\n",
    "        self.values = [0.0 for col in range(n_arms)]\n",
    "        return\n",
    "    # pull the arm once\n",
    "    def select_arm(self):\n",
    "        if random.random() > self.epsilon:\n",
    "            return ind_max(self.values)\n",
    "        else:\n",
    "            return random.randrange(len(self.values))\n",
    "\n",
    "    # update after pull the arm\n",
    "    def update(self, chosen_arm, reward):\n",
    "        self.counts[chosen_arm] = self.counts[chosen_arm] + 1\n",
    "        n = self.counts[chosen_arm]\n",
    "        \n",
    "        value = self.values[chosen_arm]\n",
    "        new_value = ((n-1) / float(n)) * value + (1 / float(n)) * reward\n",
    "        self.values[chosen_arm] = new_value\n",
    "        return\n",
    "\n",
    "        \n",
    "def ind_max(x):\n",
    "    m = max(x)\n",
    "    return x.index(m)\n",
    "\n",
    "\n",
    "class BernoulliArm():\n",
    "    def __init__(self, p):\n",
    "        self.p = p\n",
    "        \n",
    "    def draw(self):\n",
    "        # 有p的概率返回1，就是有概率p进行点击.\n",
    "        if random.random() > self.p:\n",
    "            return 0.0\n",
    "        else:\n",
    "            return 1.0"
   ]
  },
  {
   "cell_type": "code",
   "execution_count": 42,
   "metadata": {},
   "outputs": [],
   "source": [
    "# Black and white test\n",
    "means = [0.1, 0.1, 0.1, 0.1, 0.9]\n",
    "n_arms = len(means)\n",
    "random.shuffle(means)\n",
    "arms = list(map(lambda mu: BernoulliArm(mu), means))"
   ]
  },
  {
   "cell_type": "code",
   "execution_count": 75,
   "metadata": {},
   "outputs": [
    {
     "data": {
      "text/plain": [
       "[0.0, 0.0, 0.0, 0.0, 0.0, 0.0, 0.0, 0.0, 0.0, 0.0]"
      ]
     },
     "execution_count": 75,
     "metadata": {},
     "output_type": "execute_result"
    }
   ],
   "source": [
    "num_sims = 10\n",
    "horizon  = 1\n",
    "[0.0 for i in range(num_sims * horizon)]"
   ]
  },
  {
   "cell_type": "code",
   "execution_count": 116,
   "metadata": {
    "collapsed": true
   },
   "outputs": [],
   "source": [
    "def test_algorithm(algo, arms, num_sims, horizon):\n",
    "    \"\"\"\n",
    "    algo: an bandit algoirthm we want to test.\n",
    "    arms: an array of arms we want to simulate draws from.\n",
    "    num_sims: a fixed number of simulations to run to avearge over the noise in each simulation.\n",
    "    horizon: The number of the times each algorithm is allowed to pull on arms during simulation.\n",
    "    \"\"\"\n",
    "    # 初始化\n",
    "    chosen_arms = [0.0 for i in range(num_sims * horizon)]\n",
    "    rewards = [0.0 for i in range(num_sims * horizon)]\n",
    "    cumulative_rewards = [0.0 for i in range(num_sims * horizon)]\n",
    "    sim_nums = [0.0 for i in range(num_sims * horizon)]\n",
    "    times = [0.0 for i in range(num_sims * horizon)]\n",
    "    \n",
    "    for sim in range(num_sims):\n",
    "        sim = sim + 1\n",
    "        algo.initialize(len(arms))\n",
    "        \n",
    "        for t in range(num_sims):\n",
    "            # 在多次simulation中\n",
    "            sim = sim + 1\n",
    "            algo.initialize(len(arms))\n",
    "            # 在一次simulation中，可以pull arm的次数。\n",
    "            for t in range(horizon):\n",
    "                t = t + 1\n",
    "                index = (sim - 1) * horizon + t - 1 \n",
    "                sim_nums[index] = sim\n",
    "                times[index] = t\n",
    "                \n",
    "                # 来看下每次选的是哪个arm\n",
    "                chosen_arm = algo.select_arm()\n",
    "                chosen_arms[index] = chosen_arm\n",
    "                \n",
    "                reward = arms[chosen_arms[index]].draw()\n",
    "                rewards[index] = reward\n",
    "                \n",
    "                if t == 1:\n",
    "                    cumulative_rewards[index] = reward\n",
    "                else:\n",
    "                    cumulative_rewards[index] = cumulative_rewards[index - 1] + reward\n",
    "                # 更新reward\n",
    "                algo.update(chosen_arm, reward)\n",
    "            return [sim_nums, times, chosen_arms, rewards, cumulative_rewards]\n",
    "                "
   ]
  },
  {
   "cell_type": "code",
   "execution_count": 129,
   "metadata": {},
   "outputs": [
    {
     "name": "stdout",
     "output_type": "stream",
     "text": [
      "Best arm is 2\n",
      "0.0\n"
     ]
    },
    {
     "ename": "KeyboardInterrupt",
     "evalue": "",
     "output_type": "error",
     "traceback": [
      "\u001b[0;31m---------------------------------------------------------------------------\u001b[0m",
      "\u001b[0;31mKeyboardInterrupt\u001b[0m                         Traceback (most recent call last)",
      "\u001b[0;32m<ipython-input-129-98f3f8ff850d>\u001b[0m in \u001b[0;36m<module>\u001b[0;34m()\u001b[0m\n\u001b[1;32m     19\u001b[0m     \u001b[0;32mfor\u001b[0m \u001b[0mi\u001b[0m \u001b[0;32min\u001b[0m \u001b[0mrange\u001b[0m\u001b[0;34m(\u001b[0m\u001b[0mlen\u001b[0m\u001b[0;34m(\u001b[0m\u001b[0mresults\u001b[0m\u001b[0;34m[\u001b[0m\u001b[0;36m0\u001b[0m\u001b[0;34m]\u001b[0m\u001b[0;34m)\u001b[0m\u001b[0;34m)\u001b[0m\u001b[0;34m:\u001b[0m\u001b[0;34m\u001b[0m\u001b[0m\n\u001b[1;32m     20\u001b[0m         \u001b[0mf\u001b[0m\u001b[0;34m.\u001b[0m\u001b[0mwrite\u001b[0m\u001b[0;34m(\u001b[0m\u001b[0mstr\u001b[0m\u001b[0;34m(\u001b[0m\u001b[0mepsilon\u001b[0m\u001b[0;34m)\u001b[0m \u001b[0;34m+\u001b[0m \u001b[0;34m'\\t'\u001b[0m\u001b[0;34m)\u001b[0m\u001b[0;34m\u001b[0m\u001b[0m\n\u001b[0;32m---> 21\u001b[0;31m         \u001b[0mf\u001b[0m\u001b[0;34m.\u001b[0m\u001b[0mwrite\u001b[0m\u001b[0;34m(\u001b[0m\u001b[0;34m'\\t'\u001b[0m\u001b[0;34m.\u001b[0m\u001b[0mjoin\u001b[0m\u001b[0;34m(\u001b[0m\u001b[0;34m[\u001b[0m\u001b[0mstr\u001b[0m\u001b[0;34m(\u001b[0m\u001b[0mresults\u001b[0m\u001b[0;34m[\u001b[0m\u001b[0mj\u001b[0m\u001b[0;34m]\u001b[0m\u001b[0;34m[\u001b[0m\u001b[0mi\u001b[0m\u001b[0;34m]\u001b[0m\u001b[0;34m)\u001b[0m \u001b[0;32mfor\u001b[0m \u001b[0mj\u001b[0m \u001b[0;32min\u001b[0m \u001b[0mrange\u001b[0m\u001b[0;34m(\u001b[0m\u001b[0mlen\u001b[0m\u001b[0;34m(\u001b[0m\u001b[0mresults\u001b[0m\u001b[0;34m)\u001b[0m\u001b[0;34m)\u001b[0m\u001b[0;34m]\u001b[0m\u001b[0;34m)\u001b[0m \u001b[0;34m+\u001b[0m \u001b[0;34m'\\n'\u001b[0m\u001b[0;34m)\u001b[0m\u001b[0;34m\u001b[0m\u001b[0m\n\u001b[0m\u001b[1;32m     22\u001b[0m \u001b[0mf\u001b[0m\u001b[0;34m.\u001b[0m\u001b[0mclose\u001b[0m\u001b[0;34m(\u001b[0m\u001b[0;34m)\u001b[0m\u001b[0;34m\u001b[0m\u001b[0m\n",
      "\u001b[0;32m<ipython-input-129-98f3f8ff850d>\u001b[0m in \u001b[0;36m<listcomp>\u001b[0;34m(.0)\u001b[0m\n\u001b[1;32m     19\u001b[0m     \u001b[0;32mfor\u001b[0m \u001b[0mi\u001b[0m \u001b[0;32min\u001b[0m \u001b[0mrange\u001b[0m\u001b[0;34m(\u001b[0m\u001b[0mlen\u001b[0m\u001b[0;34m(\u001b[0m\u001b[0mresults\u001b[0m\u001b[0;34m[\u001b[0m\u001b[0;36m0\u001b[0m\u001b[0;34m]\u001b[0m\u001b[0;34m)\u001b[0m\u001b[0;34m)\u001b[0m\u001b[0;34m:\u001b[0m\u001b[0;34m\u001b[0m\u001b[0m\n\u001b[1;32m     20\u001b[0m         \u001b[0mf\u001b[0m\u001b[0;34m.\u001b[0m\u001b[0mwrite\u001b[0m\u001b[0;34m(\u001b[0m\u001b[0mstr\u001b[0m\u001b[0;34m(\u001b[0m\u001b[0mepsilon\u001b[0m\u001b[0;34m)\u001b[0m \u001b[0;34m+\u001b[0m \u001b[0;34m'\\t'\u001b[0m\u001b[0;34m)\u001b[0m\u001b[0;34m\u001b[0m\u001b[0m\n\u001b[0;32m---> 21\u001b[0;31m         \u001b[0mf\u001b[0m\u001b[0;34m.\u001b[0m\u001b[0mwrite\u001b[0m\u001b[0;34m(\u001b[0m\u001b[0;34m'\\t'\u001b[0m\u001b[0;34m.\u001b[0m\u001b[0mjoin\u001b[0m\u001b[0;34m(\u001b[0m\u001b[0;34m[\u001b[0m\u001b[0mstr\u001b[0m\u001b[0;34m(\u001b[0m\u001b[0mresults\u001b[0m\u001b[0;34m[\u001b[0m\u001b[0mj\u001b[0m\u001b[0;34m]\u001b[0m\u001b[0;34m[\u001b[0m\u001b[0mi\u001b[0m\u001b[0;34m]\u001b[0m\u001b[0;34m)\u001b[0m \u001b[0;32mfor\u001b[0m \u001b[0mj\u001b[0m \u001b[0;32min\u001b[0m \u001b[0mrange\u001b[0m\u001b[0;34m(\u001b[0m\u001b[0mlen\u001b[0m\u001b[0;34m(\u001b[0m\u001b[0mresults\u001b[0m\u001b[0;34m)\u001b[0m\u001b[0;34m)\u001b[0m\u001b[0;34m]\u001b[0m\u001b[0;34m)\u001b[0m \u001b[0;34m+\u001b[0m \u001b[0;34m'\\n'\u001b[0m\u001b[0;34m)\u001b[0m\u001b[0;34m\u001b[0m\u001b[0m\n\u001b[0m\u001b[1;32m     22\u001b[0m \u001b[0mf\u001b[0m\u001b[0;34m.\u001b[0m\u001b[0mclose\u001b[0m\u001b[0;34m(\u001b[0m\u001b[0;34m)\u001b[0m\u001b[0;34m\u001b[0m\u001b[0m\n",
      "\u001b[0;31mKeyboardInterrupt\u001b[0m: "
     ]
    }
   ],
   "source": [
    "import random\n",
    "random.seed(1)\n",
    "means = [0.1, 0.1, 0.1, 0.1, 0.9] \n",
    "n_arms = len(means)\n",
    "random.shuffle(means)\n",
    "arms = list(map(lambda mu: BernoulliArm(mu), means))\n",
    "print('Best arm is ' + str(ind_max(means)))\n",
    "f = open('standard_result.tsv', 'w')\n",
    "# A. 对5个epsilon都做\n",
    "for epsilon in [0.1, 0.2, 0.3, 0.4, 0.5]:\n",
    "    # 1. 建立epsilonGreedy对象\n",
    "    algo = EpsilonGreedy(epsilon, [], [])\n",
    "    # 2. 初始化当前的epsilonGreedy对象\n",
    "    algo.initialize(n_arms)\n",
    "    # 3. 在当前epsilonGreedy对象上跑5000*250次算法\n",
    "    results = test_algorithm(algo, arms, 5000, 250)\n",
    "    # 4. 进行了多少次实验\n",
    "    for i in range(len(results[0])):\n",
    "        f.write(str(epsilon) + '\\t')\n",
    "        f.write('\\t'.join([str(results[j][i]) for j in range(len(results))]) + '\\n')\n",
    "f.close()"
   ]
  },
  {
   "cell_type": "code",
   "execution_count": 131,
   "metadata": {
    "collapsed": true
   },
   "outputs": [],
   "source": [
    "# UCB\n",
    "class UCB1():\n",
    "    def __init__(self, counts, values):\n",
    "        self.counts = counts\n",
    "        self.values = values\n",
    "        return\n",
    "    \n",
    "    def initilize(self, n_arms):\n",
    "        self.counts = [0 for col in range(n_arms)]\n",
    "        self.values = [0.0 for col in range(n_arms)]\n",
    "        return\n",
    "    \n",
    "    def select_arm(self):\n",
    "        n_arms = len(self.counts)\n",
    "        # 保证每个都有pull过\n",
    "        for arm in range(n_arms):\n",
    "            if self.counts[arm]==0:\n",
    "                return arm\n",
    "        \n",
    "        ucb_values = [0.0 for arm in range(n_arms)]\n",
    "        total_counts = sum(self.counts)\n",
    "        for arm in range(n_arms):\n",
    "            bonus = math.sqrt((2*np.log(total_counts))/float(self.counts[arm]))\n",
    "            ucb_values[arm] = self.values[arm] + bonus\n",
    "        return index_max(ucb_values)\n",
    "    \n",
    "    def update(self, chosen_arm, reward):\n",
    "        self.counts[chosen_arm] = self.counts[chosen_arm] + 1\n",
    "        n = self.counts[chosen_arm]\n",
    "        value = self.values[chosen_arm]\n",
    "        new_value = ((n-1)/float(n)) * value + (1 / float(n)) * reward\n",
    "        self.values[chosen_arm] = new_value\n",
    "        return"
   ]
  },
  {
   "cell_type": "code",
   "execution_count": null,
   "metadata": {
    "collapsed": true
   },
   "outputs": [],
   "source": []
  }
 ],
 "metadata": {
  "kernelspec": {
   "display_name": "Python 3",
   "language": "python",
   "name": "python3"
  },
  "language_info": {
   "codemirror_mode": {
    "name": "ipython",
    "version": 3
   },
   "file_extension": ".py",
   "mimetype": "text/x-python",
   "name": "python",
   "nbconvert_exporter": "python",
   "pygments_lexer": "ipython3",
   "version": "3.6.1"
  }
 },
 "nbformat": 4,
 "nbformat_minor": 2
}
