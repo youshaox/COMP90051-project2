{
 "cells": [
  {
   "cell_type": "code",
   "execution_count": 1,
   "metadata": {
    "collapsed": true
   },
   "outputs": [],
   "source": [
    "import numpy as np"
   ]
  },
  {
   "cell_type": "code",
   "execution_count": 7,
   "metadata": {
    "collapsed": true
   },
   "outputs": [],
   "source": [
    "class eps_bandit:\n",
    "    def __init__(self, k, eps, iters, mu='random'):\n",
    "        # number of arms\n",
    "        self.k = k\n",
    "        self.eps = eps\n",
    "        self.iters = iters\n",
    "        # step count\n",
    "        self.n = 0\n",
    "        # step count for each arm\n",
    "        self.k_n = np.zeros(k)\n",
    "        #\n",
    "        self.mean_reward = 0\n",
    "        # 迭代的轮数\n",
    "        self.reward = np.zeros(iters)\n",
    "        # mean reward for each arm\n",
    "        self.k_reward = np.zeros(k)\n",
    "    \n",
    "    def pull(self):\n",
    "        p = np.random.rand()\n",
    "        if p < self.eps:\n",
    "            # randomly select an action\n",
    "            a  = np.random.choice(self.k)\n",
    "        else:\n",
    "            a = np.argmax(self.k_reward)\n",
    "        reward = np.random.normal(self.mu[a],1)\n",
    "\n",
    "    def update(self):\n",
    "        self.n +=1\n",
    "        self.k_n +=1\n",
    "        # 增量更新meean reward\n",
    "        self.mean_reward = self.mean_reward + (reward-self.mean_reward)/self.n\n",
    "        # update resultf for a_k\n",
    "        self.k_reward[a] = self.k_reward[a] + (reward - self.k_reward[a])/self.k_n[a]\n",
    "        \n",
    "    def run(self):\n",
    "        for i in range(self.iters):\n",
    "            self.pull()\n",
    "            self.reward[i] = self.mean_reward\n",
    "\n",
    "    def reset(self):\n",
    "        self.n = 0\n",
    "        self.k_n = np.zeros(k)\n",
    "        self.mean_reward = 0\n",
    "        self.reward = np.zeroes(iters)\n",
    "        self.k_reward = np.zeros(k)\n",
    "    "
   ]
  },
  {
   "cell_type": "code",
   "execution_count": 2,
   "metadata": {},
   "outputs": [
    {
     "data": {
      "text/plain": [
       "array([0., 0., 0., 0., 0., 0., 0., 0., 0., 0.])"
      ]
     },
     "execution_count": 2,
     "metadata": {},
     "output_type": "execute_result"
    }
   ],
   "source": []
  },
  {
   "cell_type": "code",
   "execution_count": 4,
   "metadata": {},
   "outputs": [
    {
     "data": {
      "text/plain": [
       "1"
      ]
     },
     "execution_count": 4,
     "metadata": {},
     "output_type": "execute_result"
    }
   ],
   "source": [
    "k_reward=[1,4,3,2]\n",
    "np.argmax(k_reward)"
   ]
  },
  {
   "cell_type": "code",
   "execution_count": 5,
   "metadata": {},
   "outputs": [
    {
     "data": {
      "text/plain": [
       "5"
      ]
     },
     "execution_count": 5,
     "metadata": {},
     "output_type": "execute_result"
    }
   ],
   "source": [
    "k_reward[1]+1"
   ]
  },
  {
   "cell_type": "code",
   "execution_count": 6,
   "metadata": {},
   "outputs": [
    {
     "data": {
      "text/plain": [
       "[1, 4, 3, 2]"
      ]
     },
     "execution_count": 6,
     "metadata": {},
     "output_type": "execute_result"
    }
   ],
   "source": [
    "k_reward"
   ]
  },
  {
   "cell_type": "code",
   "execution_count": 3,
   "metadata": {},
   "outputs": [
    {
     "data": {
      "text/plain": [
       "[0.0, 0.0]"
      ]
     },
     "execution_count": 3,
     "metadata": {},
     "output_type": "execute_result"
    }
   ],
   "source": [
    "n=2\n",
    "[0.]*n"
   ]
  },
  {
   "cell_type": "code",
   "execution_count": 5,
   "metadata": {
    "collapsed": true
   },
   "outputs": [],
   "source": [
    "import numpy as np"
   ]
  },
  {
   "cell_type": "code",
   "execution_count": null,
   "metadata": {
    "collapsed": true
   },
   "outputs": [],
   "source": [
    "class EpsionGreedy(object):\n",
    "    \"\"\"\n",
    "    input: \n",
    "    number of arms\n",
    "    epsilon\n",
    "    \"\"\"\n",
    "    def __init__(self, n_arms, epsilon_decay=50):\n",
    "        self.count = [0]*n\n",
    "        self.values = [0.]*n\n",
    "        self.decay = decay\n",
    "        self.n = n_arms\n",
    "    \n",
    "    def choose_arm(self):\n",
    "        \"\"\"\n",
    "        choose an arm for testing\n",
    "        \"\"\"\n",
    "        epsilon = self.get_epsilon()\n",
    "        if np.random.random() > epsilon:\n",
    "            # use the best arm\n",
    "            return np.argmax(self.values)\n",
    "        else:\n",
    "            # explore\n",
    "            # 从0开始呃！\n",
    "            return np.random.randint(self.n)\n",
    "\n",
    "    def update(self, arm, reward):\n",
    "        \"\"\"\n",
    "        update arm with some reward value\n",
    "        \"\"\"\n",
    "        self.counts[arm] = self.counts[arm] + 1\n",
    "        n = self.counts[arm]\n",
    "        value = self.values[arm]\n",
    "        # running product\n",
    "        new_value = ((n-1) / floast(n) * value) + (1/float(n)) * reward\n",
    "        self.values[arm] = new_value\n",
    "        \n",
    "    def get_epsilon(self):\n",
    "        \"\"\"\n",
    "        product epsilon\n",
    "        \"\"\"\n",
    "        total = np.sum(arm_counts)\n",
    "        return float(self.decay)/(total + float(self.decay))\n",
    "        "
   ]
  },
  {
   "cell_type": "markdown",
   "metadata": {},
   "source": []
  },
  {
   "cell_type": "code",
   "execution_count": null,
   "metadata": {
    "collapsed": true
   },
   "outputs": [],
   "source": []
  }
 ],
 "metadata": {
  "kernelspec": {
   "display_name": "Python 3",
   "language": "python",
   "name": "python3"
  },
  "language_info": {
   "codemirror_mode": {
    "name": "ipython",
    "version": 3
   },
   "file_extension": ".py",
   "mimetype": "text/x-python",
   "name": "python",
   "nbconvert_exporter": "python",
   "pygments_lexer": "ipython3",
   "version": "3.6.1"
  }
 },
 "nbformat": 4,
 "nbformat_minor": 1
}
