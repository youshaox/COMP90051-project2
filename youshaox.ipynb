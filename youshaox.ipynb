{
 "cells": [
  {
   "cell_type": "markdown",
   "metadata": {},
   "source": [
    "# COMP90051 Project 2"
   ]
  },
  {
   "cell_type": "code",
   "execution_count": 30,
   "metadata": {
    "collapsed": true
   },
   "outputs": [],
   "source": [
    "# Do not edit. These are the only imports permitted.\n",
    "%matplotlib inline\n",
    "import numpy as np\n",
    "from numpy.linalg import inv\n",
    "import matplotlib.pyplot as plt\n",
    "from abc import ABC, abstractmethod"
   ]
  },
  {
   "cell_type": "markdown",
   "metadata": {},
   "source": [
    "## 1. Implement ε-Greedy and UCB"
   ]
  },
  {
   "cell_type": "code",
   "execution_count": 31,
   "metadata": {},
   "outputs": [],
   "source": [
    "class MAB(ABC):\n",
    "    \"\"\"\n",
    "    Abstract class that represents a multi-armed bandit (MAB)\n",
    "    \"\"\"\n",
    "    \n",
    "    @abstractmethod\n",
    "    def play(self, tround, context):\n",
    "        \"\"\"\n",
    "        Play a round\n",
    "        \n",
    "        Arguments\n",
    "        =========\n",
    "        tround : int\n",
    "            positive integer identifying the round\n",
    "        \n",
    "        context : 1D float array, shape (self.ndims * self.narms), optional\n",
    "            context given to the arms\n",
    "        \n",
    "        Returns\n",
    "        =======\n",
    "        arm : int\n",
    "            the positive integer arm id for this round\n",
    "        \"\"\"\n",
    "    \n",
    "    @abstractmethod\n",
    "    def update(self, arm, reward, context):\n",
    "        \"\"\"\n",
    "        Updates the internal state of the MAB after a play\n",
    "        \n",
    "        Arguments\n",
    "        =========\n",
    "        arm : int\n",
    "            a positive integer arm id in {1, ..., self.narms}\n",
    "        \n",
    "        reward : float\n",
    "            reward received from arm\n",
    "        \n",
    "        context : 1D float array, shape (self.ndims * self.narms), optional\n",
    "            context given to arms\n",
    "        \"\"\""
   ]
  },
  {
   "cell_type": "code",
   "execution_count": 53,
   "metadata": {
    "collapsed": true
   },
   "outputs": [],
   "source": [
    "def index_max(input_list):\n",
    "    \"\"\"\n",
    "    return the index of the max element in the list.\n",
    "    NOTICE: Tie-breaking uniformly among value-maximising arms.\n",
    "    \"\"\"\n",
    "    m = max(input_list)\n",
    "    index_list = [i for i, j in enumerate(input_list) if j == m]\n",
    "    if len(index_list) == 1:\n",
    "        return index_list[0]\n",
    "    else:\n",
    "        return np.random.choice(index_list)"
   ]
  },
  {
   "cell_type": "code",
   "execution_count": 64,
   "metadata": {
    "collapsed": true
   },
   "outputs": [],
   "source": [
    "class EpsGreedy(MAB):\n",
    "    \"\"\"\n",
    "    Epsilon-Greedy multi-armed bandit\n",
    "\n",
    "    Arguments\n",
    "    =========\n",
    "    narms : int\n",
    "        number of arms\n",
    "\n",
    "    epsilon : float\n",
    "        explore probability\n",
    "\n",
    "    Q0 : float, optional\n",
    "        initial value for the arms\n",
    "    \"\"\"\n",
    "    \n",
    "    def __init__(self, narms, epsilon, Q0=np.inf):\n",
    "        self.narms=narms\n",
    "        self.epsilon=epsilon\n",
    "        # 记录每一个arm的次数和reward\n",
    "        self.counts = [0 for col in range(self.narms)]\n",
    "        self.avg_rewards = [Q0 for col in range(self.narms)]\n",
    "        \n",
    "    def play(self, tround, context=None):\n",
    "        \"\"\"\n",
    "        Play a round\n",
    "        \n",
    "        Arguments\n",
    "        =========\n",
    "        tround : int\n",
    "            positive integer identifying the round\n",
    "        context : 1D float array, shape (self.ndims * self.narms), optional\n",
    "            context given to the arms\n",
    "        \n",
    "        Returns\n",
    "        =======\n",
    "        arm : int\n",
    "            the positive integer arm id for this round\n",
    "        \"\"\"\n",
    "        # exploit\n",
    "        if np.random.random() > self.epsilon:\n",
    "            return index_max(self.avg_rewards)\n",
    "        else:\n",
    "        # explore\n",
    "            return np.random.randint(self.narms)\n",
    "        \n",
    "    def update(self, arm, reward, context=None):\n",
    "        \"\"\"\n",
    "        Updates the internal state of the MAB after a play\n",
    "        \n",
    "        Arguments\n",
    "        =========\n",
    "        arm : int\n",
    "            a positive integer arm id in {1, ..., self.narms}\n",
    "        \n",
    "        reward : float\n",
    "            reward received from arm\n",
    "        \n",
    "        context : 1D float array, shape (self.ndims * self.narms), optional\n",
    "            context given to arms\n",
    "        \"\"\"\n",
    "        self.counts[arm] = self.counts[arm] + 1\n",
    "        n = self.counts[arm]\n",
    "        old_avg_reward = self.avg_rewards[arm]\n",
    "        if self.avg_rewards[arm] == np.inf:\n",
    "            new_avg_reward = reward\n",
    "        else:\n",
    "            new_avg_reward = (old_avg_reward * (n-1) + reward)/n\n",
    "        self.avg_rewards[arm] = new_avg_reward"
   ]
  },
  {
   "cell_type": "code",
   "execution_count": 233,
   "metadata": {
    "collapsed": true
   },
   "outputs": [],
   "source": [
    "class UCB(MAB):\n",
    "    \"\"\"\n",
    "    Upper Confidence Bound (UCB) multi-armed bandit\n",
    "\n",
    "    Arguments\n",
    "    =========\n",
    "    narms : int\n",
    "        number of arms\n",
    "\n",
    "    rho : float\n",
    "        positive real explore-exploit parameter\n",
    "\n",
    "    Q0 : float, optional\n",
    "        initial value for the arms\n",
    "    \"\"\"\n",
    "    \n",
    "    def __init__(self, narms, rho, Q0=np.inf):\n",
    "        self.narms = narms\n",
    "        self.rho = rho\n",
    "        # 记录每一个arm的次数和reward\n",
    "        self.counts = [0 for col in range(self.narms)]\n",
    "        self.avg_rewards = [Q0 for col in range(self.narms)]\n",
    "        \n",
    "    def play(self, tround, context=None):\n",
    "        \"\"\"\n",
    "        Play a round\n",
    "        \n",
    "        Arguments\n",
    "        =========\n",
    "        tround : int\n",
    "            positive integer identifying the round\n",
    "        context : 1D float array, shape (self.ndims * self.narms), optional\n",
    "            context given to the arms\n",
    "        \n",
    "        Returns\n",
    "        =======\n",
    "        arm : int\n",
    "            the positive integer arm id for this round\n",
    "        \"\"\"\n",
    "        # tround is used for UCB\n",
    "        ucb_values = [0.0 for arm in range(self.narms)]\n",
    "        for arm in range(self.narms):\n",
    "            # print(float(self.counts[arm]))\n",
    "            # todo 这里其他人怎么处理\n",
    "            if self.counts[arm] ==0:\n",
    "                bonus = 0\n",
    "            else:\n",
    "                bonus = np.sqrt((self.rho*np.log(tround))/float(self.counts[arm]))\n",
    "            # 是使得当前tround下达到最大的，和update不一样，update是选完arm后的action.\n",
    "            ucb_values[arm] = self.avg_rewards[arm] + bonus\n",
    "#             print(ucb_values[arm])\n",
    "        return index_max(ucb_values)\n",
    "        \n",
    "        \n",
    "    def update(self, arm, reward, context=None):\n",
    "        \"\"\"\n",
    "        Updates the internal state of the MAB after a play\n",
    "        \n",
    "        Arguments\n",
    "        =========\n",
    "        arm : int\n",
    "            a positive integer arm id in {1, ..., self.narms}\n",
    "        \n",
    "        reward : float\n",
    "            reward received from arm\n",
    "        \n",
    "        context : 1D float array, shape (self.ndims * self.narms), optional\n",
    "            context given to arms\n",
    "        \"\"\"\n",
    "        self.counts[arm] = self.counts[arm] + 1\n",
    "        n = self.counts[arm]\n",
    "        old_avg_reward = self.avg_rewards[arm]\n",
    "        if self.avg_rewards[arm] == np.inf:\n",
    "            new_avg_reward = reward\n",
    "        else:\n",
    "            new_avg_reward = (old_avg_reward * (n-1) + reward)/n\n",
    "        self.avg_rewards[arm] = new_avg_reward"
   ]
  },
  {
   "cell_type": "markdown",
   "metadata": {},
   "source": [
    "## 2. Off-Policy Evaluation"
   ]
  },
  {
   "cell_type": "code",
   "execution_count": 332,
   "metadata": {
    "collapsed": true
   },
   "outputs": [],
   "source": [
    "def offlineEvaluate(mab, arms, rewards, contexts, nrounds=None):\n",
    "    \"\"\"\n",
    "    Offline evaluation of a multi-armed bandit\n",
    "    \n",
    "    Arguments\n",
    "    =========\n",
    "    mab : instance of MAB\n",
    "    \n",
    "    arms : 1D int array, shape (nevents,) \n",
    "        integer arm id for each event\n",
    "    \n",
    "    rewards : 1D float array, shape (nevents,)\n",
    "        reward received for each event\n",
    "    \n",
    "    contexts : 2D float array, shape (nevents, mab.narms*nfeatures)\n",
    "        contexts presented to the arms (stacked horizontally) \n",
    "        for each event.\n",
    "        \n",
    "    nrounds : int, optional\n",
    "        number of matching events to evaluate `mab` on.\n",
    "    \n",
    "    Returns\n",
    "    =======\n",
    "    out : 1D float array\n",
    "        rewards for the matching events\n",
    "    \"\"\"\n",
    "    rewards_for_matched_round = []\n",
    "    count_round = 1\n",
    "    length = len(rewards)\n",
    "    for tround in range(length):\n",
    "        # tround是从0开始的\n",
    "        # end\n",
    "       \n",
    "        # pull/play 一次\n",
    "        context = contexts[tround]\n",
    "        response_arm = arms[tround]\n",
    "        response_reward = rewards[tround]\n",
    "        # todo 是否需要的是下一轮的?\n",
    "        estimate_arm = mab.play(count_round, context)\n",
    "        if estimate_arm == response_arm:\n",
    "            count_round += 1\n",
    "            rewards_for_matched_round.append(response_reward)\n",
    "            # update\n",
    "            mab.update(response_arm, response_reward, context)\n",
    "        if count_round > nrounds:\n",
    "            break\n",
    "    return rewards_for_matched_round"
   ]
  },
  {
   "cell_type": "code",
   "execution_count": 157,
   "metadata": {
    "collapsed": true
   },
   "outputs": [],
   "source": [
    "# load the data\n",
    "dataset = np.loadtxt('dataset.txt', dtype=int)\n",
    "arms = dataset[:,0]\n",
    "rewards = dataset[:,1]\n",
    "contexts = dataset[:,2:102]"
   ]
  },
  {
   "cell_type": "code",
   "execution_count": 296,
   "metadata": {},
   "outputs": [
    {
     "data": {
      "text/html": [
       "<div>\n",
       "<table border=\"1\" class=\"dataframe\">\n",
       "  <thead>\n",
       "    <tr style=\"text-align: right;\">\n",
       "      <th></th>\n",
       "      <th>0</th>\n",
       "      <th>2</th>\n",
       "      <th>3</th>\n",
       "      <th>4</th>\n",
       "      <th>5</th>\n",
       "      <th>6</th>\n",
       "      <th>7</th>\n",
       "      <th>8</th>\n",
       "      <th>9</th>\n",
       "      <th>10</th>\n",
       "      <th>...</th>\n",
       "      <th>92</th>\n",
       "      <th>93</th>\n",
       "      <th>94</th>\n",
       "      <th>95</th>\n",
       "      <th>96</th>\n",
       "      <th>97</th>\n",
       "      <th>98</th>\n",
       "      <th>99</th>\n",
       "      <th>100</th>\n",
       "      <th>101</th>\n",
       "    </tr>\n",
       "    <tr>\n",
       "      <th>1</th>\n",
       "      <th></th>\n",
       "      <th></th>\n",
       "      <th></th>\n",
       "      <th></th>\n",
       "      <th></th>\n",
       "      <th></th>\n",
       "      <th></th>\n",
       "      <th></th>\n",
       "      <th></th>\n",
       "      <th></th>\n",
       "      <th></th>\n",
       "      <th></th>\n",
       "      <th></th>\n",
       "      <th></th>\n",
       "      <th></th>\n",
       "      <th></th>\n",
       "      <th></th>\n",
       "      <th></th>\n",
       "      <th></th>\n",
       "      <th></th>\n",
       "      <th></th>\n",
       "    </tr>\n",
       "  </thead>\n",
       "  <tbody>\n",
       "    <tr>\n",
       "      <th>0</th>\n",
       "      <td>8961</td>\n",
       "      <td>8961</td>\n",
       "      <td>8961</td>\n",
       "      <td>8961</td>\n",
       "      <td>8961</td>\n",
       "      <td>8961</td>\n",
       "      <td>8961</td>\n",
       "      <td>8961</td>\n",
       "      <td>8961</td>\n",
       "      <td>8961</td>\n",
       "      <td>...</td>\n",
       "      <td>8961</td>\n",
       "      <td>8961</td>\n",
       "      <td>8961</td>\n",
       "      <td>8961</td>\n",
       "      <td>8961</td>\n",
       "      <td>8961</td>\n",
       "      <td>8961</td>\n",
       "      <td>8961</td>\n",
       "      <td>8961</td>\n",
       "      <td>8961</td>\n",
       "    </tr>\n",
       "    <tr>\n",
       "      <th>1</th>\n",
       "      <td>1039</td>\n",
       "      <td>1039</td>\n",
       "      <td>1039</td>\n",
       "      <td>1039</td>\n",
       "      <td>1039</td>\n",
       "      <td>1039</td>\n",
       "      <td>1039</td>\n",
       "      <td>1039</td>\n",
       "      <td>1039</td>\n",
       "      <td>1039</td>\n",
       "      <td>...</td>\n",
       "      <td>1039</td>\n",
       "      <td>1039</td>\n",
       "      <td>1039</td>\n",
       "      <td>1039</td>\n",
       "      <td>1039</td>\n",
       "      <td>1039</td>\n",
       "      <td>1039</td>\n",
       "      <td>1039</td>\n",
       "      <td>1039</td>\n",
       "      <td>1039</td>\n",
       "    </tr>\n",
       "  </tbody>\n",
       "</table>\n",
       "<p>2 rows × 101 columns</p>\n",
       "</div>"
      ],
      "text/plain": [
       "    0     2     3     4     5     6     7     8     9     10   ...    92   \\\n",
       "1                                                              ...          \n",
       "0  8961  8961  8961  8961  8961  8961  8961  8961  8961  8961  ...   8961   \n",
       "1  1039  1039  1039  1039  1039  1039  1039  1039  1039  1039  ...   1039   \n",
       "\n",
       "    93    94    95    96    97    98    99    100   101  \n",
       "1                                                        \n",
       "0  8961  8961  8961  8961  8961  8961  8961  8961  8961  \n",
       "1  1039  1039  1039  1039  1039  1039  1039  1039  1039  \n",
       "\n",
       "[2 rows x 101 columns]"
      ]
     },
     "execution_count": 296,
     "metadata": {},
     "output_type": "execute_result"
    }
   ],
   "source": [
    "import pandas as pd\n",
    "df = pd.DataFrame(dataset)\n",
    "df.groupby(1).count()"
   ]
  },
  {
   "cell_type": "code",
   "execution_count": 345,
   "metadata": {},
   "outputs": [
    {
     "name": "stdout",
     "output_type": "stream",
     "text": [
      "EpsGreedy average reward 0.10638297872340426\n"
     ]
    }
   ],
   "source": [
    "mab = EpsGreedy(10, 0.05)\n",
    "results_EpsGreedy = offlineEvaluate(mab, arms, rewards, contexts, 800)\n",
    "print('EpsGreedy average reward', np.mean(results_EpsGreedy))"
   ]
  },
  {
   "cell_type": "code",
   "execution_count": 350,
   "metadata": {},
   "outputs": [
    {
     "name": "stdout",
     "output_type": "stream",
     "text": [
      "UCB average reward 0.1111111111111111\n"
     ]
    }
   ],
   "source": [
    "mab = UCB(10, 1.0)\n",
    "results_UCB = offlineEvaluate(mab, arms, rewards, contexts, 800)\n",
    "print('UCB average reward', np.mean(results_UCB))"
   ]
  },
  {
   "cell_type": "markdown",
   "metadata": {},
   "source": [
    "## 3. Contextual Bandits"
   ]
  },
  {
   "cell_type": "code",
   "execution_count": 265,
   "metadata": {
    "collapsed": true
   },
   "outputs": [],
   "source": [
    "class LinUCB(MAB):\n",
    "    \"\"\"\n",
    "    Contextual multi-armed bandit (LinUCB)\n",
    "\n",
    "    Arguments\n",
    "    =========\n",
    "    narms : int\n",
    "        number of arms\n",
    "\n",
    "    ndims : int\n",
    "        number of dimensions for each arm's context\n",
    "\n",
    "    alpha : float\n",
    "        positive real explore-exploit parameter\n",
    "    \"\"\"\n",
    "    \n",
    "    def __init__(self, narms, ndims, alpha):\n",
    "        self.narms = narms\n",
    "        self.ndims = ndims\n",
    "        self.alpha = alpha\n",
    "        self.A_list = [np.identity(ndims) for col in range(self.narms)]\n",
    "        self.b_list = [np.zeros((ndims, 1)) for col in range(self.narms)]\n",
    "\n",
    "    def play(self, tround, context=None):\n",
    "        \"\"\"\n",
    "        Play a round\n",
    "        \n",
    "        Arguments\n",
    "        =========\n",
    "        tround : int\n",
    "            positive integer identifying the round\n",
    "        context : 1D float array, shape (self.ndims * self.narms), optional\n",
    "            context given to the arms\n",
    "        \n",
    "        Returns\n",
    "        =======\n",
    "        arm : int\n",
    "            the positive integer arm id for this round\n",
    "        \"\"\"\n",
    "        p_ta_list = [0.0 for col in range(self.narms)]\n",
    "        for arm in range(self.narms):\n",
    "            context_arm = context[arm*10:(arm+1)*10]\n",
    "            x_ta = np.array(context_arm).reshape(self.ndims,1)\n",
    "            theta_a = np.dot(inv(self.A_list[arm]), self.b_list[arm])\n",
    "            p_ta = np.dot(theta_a.T, x_ta) + self.alpha*np.sqrt(np.dot(np.dot(x_ta.T, inv(self.A_list[arm])), x_ta))\n",
    "            p_ta_list[arm] = p_ta[0]\n",
    "        return index_max(p_ta_list)\n",
    "        \n",
    "    def update(self, arm, reward, context=None):\n",
    "        \"\"\"\n",
    "        Updates the internal state of the MAB after a play\n",
    "        Arguments\n",
    "        =========\n",
    "        arm : int\n",
    "            a positive integer arm id in {1, ..., self.narms}\n",
    "        \n",
    "        reward : float\n",
    "            reward received from arm\n",
    "        \n",
    "        context : 1D float array, shape (self.ndims * self.narms), optional\n",
    "            context given to arms\n",
    "        \"\"\"\n",
    "        old_A_value = np.array((self.A_list[arm]))\n",
    "        old_b_value = np.array((self.b_list[arm]))\n",
    "        context_arm = context[arm*10:(arm+1)*10]\n",
    "        x_ta = np.array(context_arm).reshape(self.ndims,1)    \n",
    "        self.A_list[arm] = old_A_value + np.dot(x_ta,x_ta.T)\n",
    "        self.b_list[arm] = old_b_value + reward * x_ta\n",
    "    "
   ]
  },
  {
   "cell_type": "code",
   "execution_count": 299,
   "metadata": {},
   "outputs": [
    {
     "name": "stdout",
     "output_type": "stream",
     "text": [
      "LinUCB average reward 0.02702702702702703\n"
     ]
    }
   ],
   "source": [
    "mab = LinUCB(10, 10, 1.0)\n",
    "results_LinUCB = offlineEvaluate(mab, arms, rewards, contexts, 800)\n",
    "print('LinUCB average reward', np.mean(results_LinUCB))"
   ]
  },
  {
   "cell_type": "markdown",
   "metadata": {},
   "source": [
    "## 4. Evaluation\n",
    "### 4.A."
   ]
  },
  {
   "cell_type": "code",
   "execution_count": null,
   "metadata": {
    "collapsed": true
   },
   "outputs": [],
   "source": [
    "number_of_trails = np.linspace(1, 800, 800)"
   ]
  },
  {
   "cell_type": "code",
   "execution_count": 376,
   "metadata": {
    "collapsed": true
   },
   "outputs": [],
   "source": [
    "result_mab_eps = []\n",
    "for number_of_trail in number_of_trails:\n",
    "    mab_eps = EpsGreedy(10, 0.05)\n",
    "    result_rewards_per_trail = offlineEvaluate(mab_eps, arms, rewards, contexts, number_of_trail)\n",
    "    result_mab_eps.append(np.mean(result_rewards_per_trail))"
   ]
  },
  {
   "cell_type": "code",
   "execution_count": 379,
   "metadata": {
    "collapsed": true
   },
   "outputs": [],
   "source": [
    "result_mab_ucb = []\n",
    "for number_of_trail in number_of_trails:\n",
    "    mab_ucb = UCB(10, 1.0)\n",
    "    result_rewards_per_trail = offlineEvaluate(mab_ucb, arms, rewards, contexts, number_of_trail)\n",
    "    result_mab_ucb.append(np.mean(result_rewards_per_trail))"
   ]
  },
  {
   "cell_type": "code",
   "execution_count": 381,
   "metadata": {
    "collapsed": true
   },
   "outputs": [],
   "source": [
    "result_mab_linucb = []\n",
    "for number_of_trail in number_of_trails:\n",
    "    mab_linucb = LinUCB(10, 10, 1.0)\n",
    "    result_rewards_per_trail = offlineEvaluate(mab_linucb, arms, rewards, contexts, number_of_trail)\n",
    "    result_mab_linucb.append(np.mean(result_rewards_per_trail))"
   ]
  },
  {
   "cell_type": "markdown",
   "metadata": {},
   "source": [
    "### 4.B."
   ]
  },
  {
   "cell_type": "code",
   "execution_count": 353,
   "metadata": {},
   "outputs": [
    {
     "data": {
      "image/png": "[encoded data removed]",
      "text/plain": [
       "<matplotlib.figure.Figure at 0x105d5cef0>"
      ]
     },
     "metadata": {},
     "output_type": "display_data"
    }
   ],
   "source": [
    "fig = plt.figure()\n",
    "ax = plt.axes()\n",
    "x = np.linspace(1, 800, 800)\n",
    "# ax.plot(x, result_mab_eps);\n",
    "ax.plot(x, result_mab_ucb);\n",
    "ax.plot(x, result_mab_linucb);"
   ]
  },
  {
   "cell_type": "code",
   "execution_count": 380,
   "metadata": {},
   "outputs": [
    {
     "data": {
      "image/png": "[encoded data removed]",
      "text/plain": [
       "<matplotlib.figure.Figure at 0x10786c9b0>"
      ]
     },
     "metadata": {},
     "output_type": "display_data"
    }
   ],
   "source": [
    "fig = plt.figure()\n",
    "ax = plt.axes()\n",
    "x = np.linspace(1, 800, 800)\n",
    "ax.plot(x, result_mab_ucb);"
   ]
  },
  {
   "cell_type": "code",
   "execution_count": 383,
   "metadata": {},
   "outputs": [
    {
     "data": {
      "image/png": "[encoded data removed]",
      "text/plain": [
       "<matplotlib.figure.Figure at 0x10b7fe358>"
      ]
     },
     "metadata": {},
     "output_type": "display_data"
    }
   ],
   "source": [
    "fig = plt.figure()\n",
    "ax = plt.axes()\n",
    "x = np.linspace(1, 800, 800)\n",
    "ax.plot(x, result_mab_linucb);"
   ]
  },
  {
   "cell_type": "markdown",
   "metadata": {},
   "source": [
    "## 5. KernelUCB"
   ]
  },
  {
   "cell_type": "code",
   "execution_count": 3,
   "metadata": {
    "collapsed": true
   },
   "outputs": [],
   "source": [
    "# Do not edit. Special import for this section.\n",
    "from sklearn.metrics.pairwise import rbf_kernel"
   ]
  },
  {
   "cell_type": "code",
   "execution_count": 32,
   "metadata": {},
   "outputs": [],
   "source": [
    "class KernelUCB(MAB):\n",
    "    \"\"\"\n",
    "    Kernelised contextual multi-armed bandit (Kernelised LinUCB)\n",
    "    \n",
    "    Arguments\n",
    "    =========\n",
    "    narms : int\n",
    "        number of arms\n",
    "\n",
    "    ndims : int\n",
    "        number of dimensions for each arm's context\n",
    "\n",
    "    gamma : float\n",
    "        positive real explore-exploit parameter\n",
    "    \n",
    "    eta : float\n",
    "        positive real explore-exploit parameter\n",
    "    \n",
    "    kern : callable\n",
    "        a kernel function from sklearn.metrics.pairwise\n",
    "    \"\"\"\n",
    "    def __init__(self, narms, ndims, gamma, eta, kern):\n",
    "        self.narms = narms\n",
    "        self.ndims = ndims\n",
    "        self.gamma = gamma\n",
    "        self.eta = eta\n",
    "        self.kern = kern\n",
    "        self.u = [1] + [0]*(self.narms-1)\n",
    "        self.y = list()\n",
    "        self.xt_history = list()\n",
    "        self.K_t_minus1_inverse = None\n",
    "    \n",
    "    def play(self, tround, context):\n",
    "        # 返回argmax(u_t-1)\n",
    "        return index_max(self.u)\n",
    "    \n",
    "    def update(self, arm, reward, context):\n",
    "        # 继续做u_t的东西\n",
    "        x_t = context[arm*10:(arm+1)*10]\n",
    "        # length为t-1\n",
    "        self.y.append(reward)\n",
    "        # length为t了\n",
    "        self.xt_history.append(x_t)\n",
    "        y_t = np.array(self.y).reshape(-1,1)\n",
    "        # t * 1 dimensional\n",
    "        # 需要x_t, xt_history, tround\n",
    "        # 注意xt_history得是tround * 1 的\n",
    "        k_xt_t = np.array(list(map(lambda x,y:kern(x,y),[x_t]*tround, self.xt_history))).reshape(tround,1)\n",
    "        \n",
    "        if tround == 1:\n",
    "            self.K_t_minus1_inverse = 1/(self.kern(x_t, x_t) + self.eta)\n",
    "        else:\n",
    "            # (tround - 1) * 1的\n",
    "            b = np.array(list(map(lambda x,y:kern(x,y),[x_t]*tround, self.xt_history[:-1]))).reshape(tround-1,1)\n",
    "            K_22 = 1/(self.kern(x_t, x_t) + self.eta - np.multi_dot(b.T, self.K_t_minus1_inverse, b))\n",
    "            K_11 = self.K_t_minus1_inverse + np.multi_dot(K_22, self.K_t_minus1_inverse, b, b.T, self.K_t_minus1_inverse)\n",
    "            K_12 = np.multi_dot(-K_22, self.K_t_minus1_inverse, b)\n",
    "            K_21 = np.multi_dot(-K_22, b.T, self.K_t_minus1_inverse)\n",
    "            K_t_inverse = np.block([[K_11, K_12],[K_21, K_22]])\n",
    "        sigma_t = []\n",
    "        u_t = []\n",
    "        for arm in self.narms:\n",
    "            x_nt = context[arm*10:(arm+1)*10].reshape(arms,-1)\n",
    "            sigma_nt <- np.sqrt(self.kern(x_nt, x_nt) - np.multi_dot(k_xt_t.T, K_t_inverse, k_xt_t))\n",
    "            sigma_t.append(sigma_nt)\n",
    "            u_nt <- np.multi_dot(k_xt_t.T, K_t_inverse, y_t) + self.eta/sqrt(self.gamma) * sigma_nt\n",
    "            u_t.append(u_nt)\n",
    "        # 更新u_t\n",
    "        self.u_t = u_t\n",
    "        # 下一轮的\n",
    "        self.K_t_minus1_inverse = K_t_inverse"
   ]
  },
  {
   "cell_type": "code",
   "execution_count": null,
   "metadata": {
    "collapsed": true
   },
   "outputs": [],
   "source": []
  }
 ],
 "metadata": {
  "kernelspec": {
   "display_name": "Python 3",
   "language": "python",
   "name": "python3"
  },
  "language_info": {
   "codemirror_mode": {
    "name": "ipython",
    "version": 3
   },
   "file_extension": ".py",
   "mimetype": "text/x-python",
   "name": "python",
   "nbconvert_exporter": "python",
   "pygments_lexer": "ipython3",
   "version": "3.6.1"
  }
 },
 "nbformat": 4,
 "nbformat_minor": 2
}
