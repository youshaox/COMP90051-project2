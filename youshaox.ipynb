{
 "cells": [
  {
   "cell_type": "markdown",
   "metadata": {},
   "source": [
    "# COMP90051 Project 2"
   ]
  },
  {
   "cell_type": "code",
   "execution_count": 1,
   "metadata": {
    "collapsed": true
   },
   "outputs": [],
   "source": [
    "# Do not edit. These are the only imports permitted.\n",
    "%matplotlib inline\n",
    "import numpy as np\n",
    "from numpy.linalg import inv\n",
    "import matplotlib.pyplot as plt\n",
    "from abc import ABC, abstractmethod"
   ]
  },
  {
   "cell_type": "markdown",
   "metadata": {},
   "source": [
    "## 1. Implement ε-Greedy and UCB"
   ]
  },
  {
   "cell_type": "code",
   "execution_count": 2,
   "metadata": {
    "collapsed": true
   },
   "outputs": [],
   "source": [
    "\"\"\"\n",
    "todo\n",
    "1. Exception处理\n",
    "2. 英文翻译\n",
    "\"\"\"\n",
    "class MAB(ABC):\n",
    "    \"\"\"\n",
    "    Abstract class that represents a multi-armed bandit (MAB)\n",
    "    \"\"\"\n",
    "    \n",
    "    @abstractmethod\n",
    "    def play(self, tround, context):\n",
    "        \"\"\"\n",
    "        Play a round\n",
    "        \n",
    "        Arguments\n",
    "        =========\n",
    "        tround : int\n",
    "            positive integer identifying the round\n",
    "        \n",
    "        context : 1D float array, shape (self.ndims * self.narms), optional\n",
    "            context given to the arms\n",
    "        \n",
    "        Returns\n",
    "        =======\n",
    "        arm : int\n",
    "            the positive integer arm id for this round\n",
    "        \"\"\"\n",
    "    \n",
    "    @abstractmethod\n",
    "    def update(self, arm, reward, context):\n",
    "        \"\"\"\n",
    "        Updates the internal state of the MAB after a play\n",
    "        \n",
    "        Arguments\n",
    "        =========\n",
    "        arm : int\n",
    "            a positive integer arm id in {1, ..., self.narms}\n",
    "        \n",
    "        reward : float\n",
    "            reward received from arm\n",
    "        \n",
    "        context : 1D float array, shape (self.ndims * self.narms), optional\n",
    "            context given to arms\n",
    "        \"\"\""
   ]
  },
  {
   "cell_type": "code",
   "execution_count": 37,
   "metadata": {
    "collapsed": true
   },
   "outputs": [],
   "source": [
    "def index_max(input_list):\n",
    "    \"\"\"\n",
    "    return the index of the max element in the list.\n",
    "    NOTICE: Tie-breaking uniformly among value-maximising arms.\n",
    "    arm 0 是第一个arm\n",
    "    \"\"\"\n",
    "    m = max(input_list)\n",
    "    if m == np.inf:\n",
    "        index_list = [i for i, j in enumerate(input_list) if j==np.inf]\n",
    "    else:\n",
    "        # handle with float\n",
    "        index_list = [i for i, j in enumerate(input_list) if (abs(j-m)<=0.000001)]\n",
    "    if len(index_list) == 1:\n",
    "        return index_list[0]\n",
    "    else:\n",
    "        return np.random.choice(index_list)"
   ]
  },
  {
   "cell_type": "code",
   "execution_count": 48,
   "metadata": {
    "collapsed": true
   },
   "outputs": [],
   "source": [
    "class EpsGreedy(MAB):\n",
    "    \"\"\"\n",
    "    Epsilon-Greedy multi-armed bandit\n",
    "\n",
    "    Arguments\n",
    "    =========\n",
    "    narms : int\n",
    "        number of arms\n",
    "\n",
    "    epsilon : float\n",
    "        explore probability\n",
    "\n",
    "    Q0 : float, optional\n",
    "        initial value for the arms\n",
    "    \"\"\"\n",
    "    \n",
    "    def __init__(self, narms, epsilon, Q0=np.inf):\n",
    "        self.narms=narms\n",
    "        self.epsilon=epsilon\n",
    "        # 记录每一个arm的pull的次数和得到的reward\n",
    "        self.counts = [0 for col in range(self.narms)]\n",
    "        self.avg_rewards = [Q0 for col in range(self.narms)]\n",
    "        \n",
    "    def play(self, tround, context=None):\n",
    "        \"\"\"\n",
    "        Play a round\n",
    "        play t-1轮的\n",
    "        Arguments\n",
    "        =========\n",
    "        tround : int\n",
    "            positive integer identifying the round\n",
    "        context : 1D float array, shape (self.ndims * self.narms), optional\n",
    "            context given to the arms\n",
    "        \n",
    "        Returns\n",
    "        =======\n",
    "        arm : int\n",
    "            the positive integer arm id for this round\n",
    "        \"\"\"\n",
    "        # exploit\n",
    "        if np.random.random() > self.epsilon:\n",
    "            # t-1轮中的average reward中最大的\n",
    "#             print(self.avg_rewards)\n",
    "            return index_max(self.avg_rewards)\n",
    "        else:\n",
    "        # explore\n",
    "            return np.random.randint(self.narms)\n",
    "        \n",
    "    def update(self, arm, reward, context=None):\n",
    "        \"\"\"\n",
    "        Updates the internal state of the MAB after a play\n",
    "        更新t轮的\n",
    "        Arguments\n",
    "        =========\n",
    "        arm : int\n",
    "            a positive integer arm id in {1, ..., self.narms}\n",
    "        \n",
    "        reward : float\n",
    "            reward received from arm\n",
    "        \n",
    "        context : 1D float array, shape (self.ndims * self.narms), optional\n",
    "            context given to arms\n",
    "        \"\"\"\n",
    "        self.counts[arm] = self.counts[arm] + 1\n",
    "        n = self.counts[arm]\n",
    "        old_avg_reward = self.avg_rewards[arm]\n",
    "        if n == 1:\n",
    "            new_avg_reward = reward\n",
    "        else:\n",
    "            new_avg_reward = (old_avg_reward * (n-1) + reward)/n\n",
    "        self.avg_rewards[arm] = new_avg_reward"
   ]
  },
  {
   "cell_type": "code",
   "execution_count": 55,
   "metadata": {
    "collapsed": true
   },
   "outputs": [],
   "source": [
    "class UCB(MAB):\n",
    "    \"\"\"\n",
    "    Upper Confidence Bound (UCB) multi-armed bandit\n",
    "\n",
    "    Arguments\n",
    "    =========\n",
    "    narms : int\n",
    "        number of arms\n",
    "\n",
    "    rho : float\n",
    "        positive real explore-exploit parameter\n",
    "\n",
    "    Q0 : float, optional\n",
    "        initial value for the arms\n",
    "    \"\"\"\n",
    "    \n",
    "    def __init__(self, narms, rho, Q0=np.inf):\n",
    "        self.narms = narms\n",
    "        self.rho = rho\n",
    "        # 记录每一个arm的次数和reward\n",
    "        self.counts = [0 for col in range(self.narms)]\n",
    "        self.avg_rewards = [Q0 for col in range(self.narms)]\n",
    "        \n",
    "    def play(self, tround, context=None):\n",
    "        \"\"\"\n",
    "        Play a round\n",
    "        t-1 round\n",
    "        Arguments\n",
    "        =========\n",
    "        tround : int\n",
    "            positive integer identifying the round\n",
    "        context : 1D float array, shape (self.ndims * self.narms), optional\n",
    "            context given to the arms\n",
    "        \n",
    "        Returns\n",
    "        =======\n",
    "        arm : int\n",
    "            the positive integer arm id for this round\n",
    "        \"\"\"\n",
    "        # tround is used for UCB\n",
    "        q_values = [0.0 for arm in range(self.narms)]\n",
    "        for arm in range(self.narms):\n",
    "            # todo 这里其他人怎么处理\n",
    "            if self.counts[arm] == 0:\n",
    "                bonus = 0\n",
    "            else:\n",
    "                # 看下evaluation的tround是不是第t轮而不是t-1轮的结果\n",
    "                bonus = np.sqrt((self.rho*np.log(tround))/self.counts[arm])\n",
    "            # 是使得当前tround下达到最大的，和update不一样，update是选完arm后的action.\n",
    "            q_values[arm] = self.avg_rewards[arm] + bonus\n",
    "        return index_max(q_values)\n",
    "        \n",
    "        \n",
    "    def update(self, arm, reward, context=None):\n",
    "        \"\"\"\n",
    "        Updates the internal state of the MAB after a play\n",
    "        需要update avg_rewards和self.counts\n",
    "        Arguments\n",
    "        =========\n",
    "        arm : int\n",
    "            a positive integer arm id in {1, ..., self.narms}\n",
    "        \n",
    "        reward : float\n",
    "            reward received from arm\n",
    "        \n",
    "        context : 1D float array, shape (self.ndims * self.narms), optional\n",
    "            context given to arms\n",
    "        \"\"\"\n",
    "        self.counts[arm] = self.counts[arm] + 1\n",
    "        n = self.counts[arm]\n",
    "        old_avg_reward = self.avg_rewards[arm]\n",
    "        if n == 1:\n",
    "            new_avg_reward = reward\n",
    "        else:\n",
    "            new_avg_reward = (old_avg_reward * (n-1) + reward)/n\n",
    "        self.avg_rewards[arm] = new_avg_reward"
   ]
  },
  {
   "cell_type": "markdown",
   "metadata": {},
   "source": [
    "## 2. Off-Policy Evaluation"
   ]
  },
  {
   "cell_type": "code",
   "execution_count": 121,
   "metadata": {
    "collapsed": true
   },
   "outputs": [],
   "source": [
    "def offlineEvaluate(mab, arms, rewards, contexts, nrounds=None):\n",
    "    \"\"\"\n",
    "    Offline evaluation of a multi-armed bandit\n",
    "    \n",
    "    Arguments\n",
    "    =========\n",
    "    mab : instance of MAB\n",
    "    \n",
    "    arms : 1D int array, shape (nevents,) \n",
    "        integer arm id for each event\n",
    "    \n",
    "    rewards : 1D float array, shape (nevents,)\n",
    "        reward received for each event\n",
    "    \n",
    "    contexts : 2D float array, shape (nevents, mab.narms*nfeatures)\n",
    "        contexts presented to the arms (stacked horizontally) \n",
    "        for each event.\n",
    "        \n",
    "    nrounds : int, optional\n",
    "        number of matching events to evaluate `mab` on.\n",
    "    \n",
    "    Returns\n",
    "    =======\n",
    "    out : 1D float array\n",
    "        rewards for the matching events\n",
    "    \"\"\"\n",
    "    rewards_for_matched_round = []\n",
    "    tround = 1\n",
    "    length = len(rewards)\n",
    "    for context_round in range(length):\n",
    "        context = contexts[context_round]\n",
    "        response_arm = int(arms[context_round]-1)\n",
    "        response_reward = rewards[context_round]\n",
    "        estimate_arm = int(mab.play(tround, context))\n",
    "        if estimate_arm == response_arm:\n",
    "            tround += 1\n",
    "            rewards_for_matched_round.append(response_reward)\n",
    "            mab.update(response_arm, response_reward, context)\n",
    "        if tround > nrounds:\n",
    "            break\n",
    "    return rewards_for_matched_round"
   ]
  },
  {
   "cell_type": "code",
   "execution_count": 7,
   "metadata": {
    "collapsed": true
   },
   "outputs": [],
   "source": [
    "# load the data\n",
    "dataset = np.loadtxt('dataset.txt', dtype=int)\n",
    "arms = dataset[:,0]\n",
    "rewards = dataset[:,1]\n",
    "contexts = dataset[:,2:102]"
   ]
  },
  {
   "cell_type": "code",
   "execution_count": 8,
   "metadata": {},
   "outputs": [
    {
     "data": {
      "text/html": [
       "<div>\n",
       "<table border=\"1\" class=\"dataframe\">\n",
       "  <thead>\n",
       "    <tr style=\"text-align: right;\">\n",
       "      <th></th>\n",
       "      <th>0</th>\n",
       "      <th>2</th>\n",
       "      <th>3</th>\n",
       "      <th>4</th>\n",
       "      <th>5</th>\n",
       "      <th>6</th>\n",
       "      <th>7</th>\n",
       "      <th>8</th>\n",
       "      <th>9</th>\n",
       "      <th>10</th>\n",
       "      <th>...</th>\n",
       "      <th>92</th>\n",
       "      <th>93</th>\n",
       "      <th>94</th>\n",
       "      <th>95</th>\n",
       "      <th>96</th>\n",
       "      <th>97</th>\n",
       "      <th>98</th>\n",
       "      <th>99</th>\n",
       "      <th>100</th>\n",
       "      <th>101</th>\n",
       "    </tr>\n",
       "    <tr>\n",
       "      <th>1</th>\n",
       "      <th></th>\n",
       "      <th></th>\n",
       "      <th></th>\n",
       "      <th></th>\n",
       "      <th></th>\n",
       "      <th></th>\n",
       "      <th></th>\n",
       "      <th></th>\n",
       "      <th></th>\n",
       "      <th></th>\n",
       "      <th></th>\n",
       "      <th></th>\n",
       "      <th></th>\n",
       "      <th></th>\n",
       "      <th></th>\n",
       "      <th></th>\n",
       "      <th></th>\n",
       "      <th></th>\n",
       "      <th></th>\n",
       "      <th></th>\n",
       "      <th></th>\n",
       "    </tr>\n",
       "  </thead>\n",
       "  <tbody>\n",
       "    <tr>\n",
       "      <th>0</th>\n",
       "      <td>8961</td>\n",
       "      <td>8961</td>\n",
       "      <td>8961</td>\n",
       "      <td>8961</td>\n",
       "      <td>8961</td>\n",
       "      <td>8961</td>\n",
       "      <td>8961</td>\n",
       "      <td>8961</td>\n",
       "      <td>8961</td>\n",
       "      <td>8961</td>\n",
       "      <td>...</td>\n",
       "      <td>8961</td>\n",
       "      <td>8961</td>\n",
       "      <td>8961</td>\n",
       "      <td>8961</td>\n",
       "      <td>8961</td>\n",
       "      <td>8961</td>\n",
       "      <td>8961</td>\n",
       "      <td>8961</td>\n",
       "      <td>8961</td>\n",
       "      <td>8961</td>\n",
       "    </tr>\n",
       "    <tr>\n",
       "      <th>1</th>\n",
       "      <td>1039</td>\n",
       "      <td>1039</td>\n",
       "      <td>1039</td>\n",
       "      <td>1039</td>\n",
       "      <td>1039</td>\n",
       "      <td>1039</td>\n",
       "      <td>1039</td>\n",
       "      <td>1039</td>\n",
       "      <td>1039</td>\n",
       "      <td>1039</td>\n",
       "      <td>...</td>\n",
       "      <td>1039</td>\n",
       "      <td>1039</td>\n",
       "      <td>1039</td>\n",
       "      <td>1039</td>\n",
       "      <td>1039</td>\n",
       "      <td>1039</td>\n",
       "      <td>1039</td>\n",
       "      <td>1039</td>\n",
       "      <td>1039</td>\n",
       "      <td>1039</td>\n",
       "    </tr>\n",
       "  </tbody>\n",
       "</table>\n",
       "<p>2 rows × 101 columns</p>\n",
       "</div>"
      ],
      "text/plain": [
       "    0     2     3     4     5     6     7     8     9     10   ...    92   \\\n",
       "1                                                              ...          \n",
       "0  8961  8961  8961  8961  8961  8961  8961  8961  8961  8961  ...   8961   \n",
       "1  1039  1039  1039  1039  1039  1039  1039  1039  1039  1039  ...   1039   \n",
       "\n",
       "    93    94    95    96    97    98    99    100   101  \n",
       "1                                                        \n",
       "0  8961  8961  8961  8961  8961  8961  8961  8961  8961  \n",
       "1  1039  1039  1039  1039  1039  1039  1039  1039  1039  \n",
       "\n",
       "[2 rows x 101 columns]"
      ]
     },
     "execution_count": 8,
     "metadata": {},
     "output_type": "execute_result"
    }
   ],
   "source": [
    "import pandas as pd\n",
    "df = pd.DataFrame(dataset)\n",
    "df.groupby(1).count()"
   ]
  },
  {
   "cell_type": "code",
   "execution_count": 122,
   "metadata": {},
   "outputs": [
    {
     "name": "stdout",
     "output_type": "stream",
     "text": [
      "EpsGreedy average reward 0.2625\n"
     ]
    }
   ],
   "source": [
    "mab = EpsGreedy(10, 0.05)\n",
    "results_EpsGreedy = offlineEvaluate(mab, arms, rewards, contexts, 800)\n",
    "print('EpsGreedy average reward', np.mean(results_EpsGreedy))"
   ]
  },
  {
   "cell_type": "code",
   "execution_count": 56,
   "metadata": {},
   "outputs": [
    {
     "name": "stdout",
     "output_type": "stream",
     "text": [
      "UCB average reward 0.17\n"
     ]
    }
   ],
   "source": [
    "mab = UCB(10, 1.0)\n",
    "results_UCB = offlineEvaluate(mab, arms, rewards, contexts, 800)\n",
    "print('UCB average reward', np.mean(results_UCB))"
   ]
  },
  {
   "cell_type": "markdown",
   "metadata": {},
   "source": [
    "## 3. Contextual Bandits"
   ]
  },
  {
   "cell_type": "code",
   "execution_count": 101,
   "metadata": {
    "collapsed": true
   },
   "outputs": [],
   "source": [
    "class LinUCB(MAB):\n",
    "    \"\"\"\n",
    "    Contextual multi-armed bandit (LinUCB)\n",
    "\n",
    "    Arguments\n",
    "    =========\n",
    "    narms : int\n",
    "        number of arms\n",
    "\n",
    "    ndims : int\n",
    "        number of dimensions for each arm's context\n",
    "\n",
    "    alpha : float\n",
    "        positive real explore-exploit parameter\n",
    "    \"\"\"\n",
    "    \n",
    "    def __init__(self, narms, ndims, alpha):\n",
    "        self.narms = narms\n",
    "        self.ndims = ndims\n",
    "        self.alpha = alpha\n",
    "        self.A_list = [np.identity(ndims) for col in range(self.narms)]\n",
    "        self.b_list = [np.zeros((ndims, 1)) for col in range(self.narms)]\n",
    "\n",
    "    def play(self, tround, context=None):\n",
    "        \"\"\"\n",
    "        Play a round\n",
    "        \n",
    "        Arguments\n",
    "        =========\n",
    "        tround : int\n",
    "            positive integer identifying the round\n",
    "        context : 1D float array, shape (self.ndims * self.narms), optional\n",
    "            context given to the arms\n",
    "        \n",
    "        Returns\n",
    "        =======\n",
    "        arm : int\n",
    "            the positive integer arm id for this round\n",
    "        \"\"\"\n",
    "        p_ta_list = []\n",
    "        for arm in range(self.narms):\n",
    "            context_arm = context[arm*10:(arm+1)*10]\n",
    "            x_ta = np.array(context_arm).reshape(-1,1)\n",
    "            theta_a = np.dot(inv(self.A_list[arm]), self.b_list[arm])\n",
    "            p_ta = np.dot(theta_a.T, x_ta) + self.alpha*np.sqrt(np.linalg.multi_dot([x_ta.T, inv(self.A_list[arm]), x_ta]))\n",
    "            p_ta_list.append(p_ta[0][0])\n",
    "        return index_max(p_ta_list)\n",
    "        \n",
    "    def update(self, arm, reward, context=None):\n",
    "        \"\"\"\n",
    "        Updates the internal state of the MAB after a play\n",
    "        Arguments\n",
    "        =========\n",
    "        arm : int\n",
    "            a positive integer arm id in {1, ..., self.narms}\n",
    "        \n",
    "        reward : float\n",
    "            reward received from arm\n",
    "        \n",
    "        context : 1D float array, shape (self.ndims * self.narms), optional\n",
    "            context given to arms\n",
    "        \"\"\"\n",
    "        old_A_value = np.array((self.A_list[arm]))\n",
    "        old_b_value = np.array((self.b_list[arm]))\n",
    "        context_arm = context[arm*10:(arm+1)*10]\n",
    "        x_tat = np.array(context_arm).reshape(-1,1)    \n",
    "        self.A_list[arm] = old_A_value + np.dot(x_tat, x_tat.T)\n",
    "        self.b_list[arm] = old_b_value + reward * x_tat\n",
    "    "
   ]
  },
  {
   "cell_type": "code",
   "execution_count": 117,
   "metadata": {},
   "outputs": [
    {
     "name": "stdout",
     "output_type": "stream",
     "text": [
      "LinUCB average reward 0.53\n"
     ]
    }
   ],
   "source": [
    "mab = LinUCB(10, 10, 1.0)\n",
    "results_LinUCB = offlineEvaluate(mab, arms, rewards, contexts, 800)\n",
    "print('LinUCB average reward', np.mean(results_LinUCB))\n",
    "# linUCB不是固定的么"
   ]
  },
  {
   "cell_type": "markdown",
   "metadata": {},
   "source": [
    "## 4. Evaluation\n",
    "\n",
    "### 4.A."
   ]
  },
  {
   "cell_type": "code",
   "execution_count": 191,
   "metadata": {},
   "outputs": [
    {
     "data": {
      "text/plain": [
       "<matplotlib.legend.Legend at 0x1157597f0>"
      ]
     },
     "execution_count": 191,
     "metadata": {},
     "output_type": "execute_result"
    },
    {
     "data": {
      "image/png": "[encoded data removed]",
      "text/plain": [
       "<matplotlib.figure.Figure at 0x115647cc0>"
      ]
     },
     "metadata": {},
     "output_type": "display_data"
    }
   ],
   "source": [
    "trials = 800\n",
    "number_of_trials = np.linspace(1, trials, trials)\n",
    "\n",
    "T = np.arange(trials)+1\n",
    "mab = EpsGreedy(10, 0.05)\n",
    "mab_ucb = UCB(10, 1.0)\n",
    "mab_linucb = LinUCB(10, 10, 1.6)\n",
    "\n",
    "results_eps = offlineEvaluate(mab_eps, arms, rewards, contexts, trials)\n",
    "results_ucb = offlineEvaluate(mab_ucb, arms, rewards, contexts, trials)\n",
    "results_linucb = offlineEvaluate(mab_linucb, arms, rewards, contexts, trials)\n",
    "cum_results_epsgreedy = np.cumsum(results_eps)\n",
    "cum_results_ucb = np.cumsum(results_ucb)\n",
    "cum_results_linucb = np.cumsum(results_linucb)\n",
    "\n",
    "epsgreedy_plot_result = list(map(lambda x:x[0]/x[1], zip(cum_results_epsgreedy, T)))\n",
    "ucb_plot_result = list(map(lambda x:x[0]/x[1], zip(cum_results_ucb, T)))\n",
    "linucb_plot_result = list(map(lambda x:x[0]/x[1], zip(cum_results_linucb, T)))\n",
    "\n",
    "# Answer\n",
    "fig = plt.figure()\n",
    "ax = plt.axes()\n",
    "x = np.linspace(1, trials, trials)\n",
    "ax.plot(x, epsgreedy_plot_result, 'r', label='eps')\n",
    "ax.plot(x, ucb_plot_result, 'b', label='ucb')\n",
    "ax.plot(x, linucb_plot_result, 'g', label='linucb')\n",
    "ax.legend(loc='upper left')"
   ]
  },
  {
   "cell_type": "markdown",
   "metadata": {},
   "source": [
    "### 4.B."
   ]
  },
  {
   "cell_type": "code",
   "execution_count": 118,
   "metadata": {},
   "outputs": [
    {
     "name": "stdout",
     "output_type": "stream",
     "text": [
      "1.5887050112577374\n",
      "2.949474603520405\n"
     ]
    },
    {
     "data": {
      "image/png": "[encoded data removed]",
      "text/plain": [
       "<matplotlib.figure.Figure at 0x1124849e8>"
      ]
     },
     "metadata": {},
     "output_type": "display_data"
    }
   ],
   "source": [
    "# 0.1, 0.01\n",
    "# alpha越大，去探索的概率越大。但是说明delta越小，1-delta越大，说明置信度越高。\n",
    "# alpha最小，alpha最大3\n",
    "fig = plt.figure()\n",
    "ax = plt.axes()\n",
    "delta = np.linspace(0.001, 1, 30)\n",
    "ax.plot(delta,list(map(lambda delta:(1  + np.sqrt(np.log(2/delta)/2)), delta)), 'r')\n",
    "print(min(list(map(lambda delta:(1  + np.sqrt(np.log(2/delta)/2)), delta))))\n",
    "print(max(list(map(lambda delta:(1  + np.sqrt(np.log(2/delta)/2)), delta))))\n",
    "# A reasonable range of alpha will be 1.6 to 3"
   ]
  },
  {
   "cell_type": "code",
   "execution_count": 185,
   "metadata": {},
   "outputs": [
    {
     "name": "stdout",
     "output_type": "stream",
     "text": [
      "best alpha:1.6\n"
     ]
    },
    {
     "data": {
      "text/plain": [
       "[<matplotlib.lines.Line2D at 0x11210d160>]"
      ]
     },
     "execution_count": 185,
     "metadata": {},
     "output_type": "execute_result"
    },
    {
     "data": {
      "image/png": "[encoded data removed]",
      "text/plain": [
       "<matplotlib.figure.Figure at 0x1123d2b70>"
      ]
     },
     "metadata": {},
     "output_type": "display_data"
    }
   ],
   "source": [
    "def grid_search(alpha_start, alpha_end):\n",
    "    result_linucb_alpha = []\n",
    "    for alpha in np.linspace(alpha_start, alpha_end, 20):\n",
    "        result_rewards_per_alpha=[]\n",
    "        mab_linucb = LinUCB(10, 10, alpha)\n",
    "        result_rewards_per_alpha = offlineEvaluate(mab_linucb, arms, rewards, contexts, 800)\n",
    "        result_linucb_alpha.append(np.mean(result_rewards_per_alpha))\n",
    "    best_alpha = np.linspace(alpha_start, alpha_end, 20)[index_max(result_linucb_alpha)]\n",
    "    return result_linucb_alpha, best_alpha\n",
    "\n",
    "alpha_start = 1.6\n",
    "alpha_end = 3\n",
    "result_linucb_alpha, best_alpha = grid_search(alpha_start, alpha_end)\n",
    "fig = plt.figure()\n",
    "ax = plt.axes()\n",
    "x = np.linspace(alpha_start, alpha_end, 20)\n",
    "print('best alpha: ' + str(best_alpha))\n",
    "ax.plot(x, result_linucb_alpha, 'r')\n",
    "# So best alpha will be 1.6"
   ]
  },
  {
   "cell_type": "markdown",
   "metadata": {},
   "source": [
    "## 5. KernelUCB"
   ]
  },
  {
   "cell_type": "code",
   "execution_count": 159,
   "metadata": {
    "collapsed": true
   },
   "outputs": [],
   "source": [
    "# Do not edit. Special import for this section.\n",
    "from sklearn.metrics.pairwise import rbf_kernel"
   ]
  },
  {
   "cell_type": "code",
   "execution_count": 157,
   "metadata": {
    "collapsed": true
   },
   "outputs": [],
   "source": [
    "class KernelUCB(MAB):\n",
    "    \"\"\"\n",
    "    Kernelised contextual multi-armed bandit (Kernelised LinUCB)\n",
    "    \n",
    "    Arguments\n",
    "    =========\n",
    "    narms : int\n",
    "        number of arms\n",
    "\n",
    "    ndims : int\n",
    "        number of dimensions for each arm's context\n",
    "\n",
    "    gamma : float\n",
    "        positive real explore-exploit parameter\n",
    "    \n",
    "    eta : float\n",
    "        positive real explore-exploit parameter\n",
    "    \n",
    "    kern : callable\n",
    "        a kernel function from sklearn.metrics.pairwise\n",
    "    \"\"\"\n",
    "    def __init__(self, narms, ndims, gamma, eta, kern):\n",
    "        self.narms = narms\n",
    "        self.ndims = ndims\n",
    "        self.gamma = gamma\n",
    "        self.eta = eta\n",
    "        self.kern = kern\n",
    "        # 这个就是ut\n",
    "        self.u = list([1] + [0]*(self.narms-1))\n",
    "        # 这个就是yt\n",
    "        self.y = list()\n",
    "        self.xt_history = list()\n",
    "        self.K_t_minus1_inverse = None\n",
    "        self.tround=None\n",
    "    \n",
    "    def play(self, tround, context):\n",
    "        # 选择使得u_t-1最大的arm\n",
    "        self.tround = tround\n",
    "        return index_max(self.u)\n",
    "\n",
    "    def update(self, arm, reward, context):\n",
    "        # 继续做u_t的东西\n",
    "        # 这个就是第10个arm\n",
    "        x_t = context[arm*10:(arm+1)*10]\n",
    "        self.y.append(reward)\n",
    "        self.xt_history.append(x_t)\n",
    "        y_t = np.array(self.y).reshape(-1,1)\n",
    "        # t * 1 dimensional\n",
    "        # 需要x_t, xt_history, tround\n",
    "        # 注意xt_history得是tround * 1 的\n",
    "        k_xt_t = np.array([kern(x_t, x_t_old) for x_t_old in self.xt_history]).reshape(-1,1)\n",
    "        if self.tround == 1:\n",
    "            K_t_inverse = 1/(self.kern(x_t, x_t) + self.eta)\n",
    "            self.K_t_minus1_inverse = K_t_inverse\n",
    "        else:\n",
    "            b = np.array(list(map(lambda x,y:kern(x,y),[x_t]*self.tround, self.xt_history[:-1]))).reshape(-1,1)\n",
    "            K_22 = 1/(self.kern(x_t, x_t) + self.eta - np.linalg.multi_dot([b.T, self.K_t_minus1_inverse, b]))\n",
    "            K_11 = self.K_t_minus1_inverse + K_22*np.linalg.multi_dot([self.K_t_minus1_inverse, b, b.T, self.K_t_minus1_inverse])\n",
    "            K_12 = (-K_22)*np.linalg.multi_dot([self.K_t_minus1_inverse, b])\n",
    "            K_21 = (-K_22)*np.linalg.multi_dot([b.T, self.K_t_minus1_inverse])\n",
    "            K_t_inverse = np.block([[K_11, K_12],[K_21, K_22]])\n",
    "            self.K_t_minus1_inverse = K_t_inverse\n",
    "        # update\n",
    "        u_t = []\n",
    "        for arm in range(self.narms):\n",
    "            x_nt = context[arm*10:(arm+1)*10]\n",
    "            k_xntt = np.array([kern(x_nt, x_t_old) for x_t_old in self.xt_history]).reshape(-1,1)\n",
    "            sigma_nt = np.sqrt(self.kern(x_nt, x_nt) - np.linalg.multi_dot([k_xntt.T, K_t_inverse, k_xntt]))\n",
    "            u_nt = np.linalg.multi_dot([k_xntt.T, K_t_inverse, y_t]) + self.eta/np.sqrt(self.gamma) * sigma_nt\n",
    "            u_t.append(u_nt[0][0])\n",
    "        self.u = u_t"
   ]
  },
  {
   "cell_type": "code",
   "execution_count": 156,
   "metadata": {
    "collapsed": true
   },
   "outputs": [],
   "source": [
    "def kern(X, Y):\n",
    "    \"\"\"\n",
    "    RBF_kernel with gamma preset\n",
    "    \"\"\"\n",
    "    gamma = 0.1\n",
    "    X = X.reshape(1,-1)\n",
    "    Y = Y.reshape(1,-1)\n",
    "    return rbf_kernel(X, Y, gamma)"
   ]
  },
  {
   "cell_type": "code",
   "execution_count": 160,
   "metadata": {},
   "outputs": [
    {
     "name": "stdout",
     "output_type": "stream",
     "text": [
      "kernel average reward 0.1475\n"
     ]
    }
   ],
   "source": [
    "mab_kern = KernelUCB(10, 10, 0.05, 0.1, kern)\n",
    "results_kern = offlineEvaluate(mab_kern, arms, rewards, contexts, 800)\n",
    "print('kernel average reward', np.mean(results_kern))"
   ]
  },
  {
   "cell_type": "code",
   "execution_count": 161,
   "metadata": {},
   "outputs": [
    {
     "data": {
      "text/plain": [
       "<matplotlib.legend.Legend at 0x10dcaacf8>"
      ]
     },
     "execution_count": 161,
     "metadata": {},
     "output_type": "execute_result"
    },
    {
     "data": {
      "image/png": "[encoded data removed]",
      "text/plain": [
       "<matplotlib.figure.Figure at 0x114a750b8>"
      ]
     },
     "metadata": {},
     "output_type": "display_data"
    }
   ],
   "source": [
    "cum_results_kern = np.cumsum(results_kern)\n",
    "kern_plot_result = list(map(lambda x:x[0]/x[1], zip(cum_results_kern, T)))\n",
    "\n",
    "# Answer\n",
    "fig = plt.figure()\n",
    "ax = plt.axes()\n",
    "x = np.linspace(1, 800, 800)\n",
    "ax.plot(x, kern_plot_result, 'r', label='kernel')\n",
    "ax.plot(x, linucb_plot_result, 'g', label='linucb')\n",
    "ax.legend(loc='upper right')"
   ]
  },
  {
   "cell_type": "code",
   "execution_count": null,
   "metadata": {
    "collapsed": true
   },
   "outputs": [],
   "source": []
  }
 ],
 "metadata": {
  "kernelspec": {
   "display_name": "Python 3",
   "language": "python",
   "name": "python3"
  },
  "language_info": {
   "codemirror_mode": {
    "name": "ipython",
    "version": 3
   },
   "file_extension": ".py",
   "mimetype": "text/x-python",
   "name": "python",
   "nbconvert_exporter": "python",
   "pygments_lexer": "ipython3",
   "version": "3.6.1"
  }
 },
 "nbformat": 4,
 "nbformat_minor": 2
}
